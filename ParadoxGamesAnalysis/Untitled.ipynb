{
 "cells": [
  {
   "cell_type": "markdown",
   "id": "bf93a36c",
   "metadata": {},
   "source": [
    "# Analysis of player count of Paradox Interactive games.\n",
    "\n",
    "### The Idea\n",
    "The goal of this analysis is to see how Paradox's player base change over the years, what games they played the most, how new releases (including main competitors) impacted their player engagment.\n",
    "All games developed by Paradox Development Studio after 2010 are included (except for Sengoku due to no availible data)\n",
    "### Games analised:\n",
    "- Crusader Kings 2\n",
    "- Crusader Kings 3\n",
    "- March of the Eagles\n",
    "- Europa Universalis 4\n",
    "- Victoria 2\n",
    "- Victoria 3\n",
    "- Hearts of Iron 3\n",
    "- Hearts of Iron 4\n",
    "- Imperator: Rome\n",
    "- Cities Skylines 1\n",
    "- Cities Skylines 2\n",
    "- Stellaris\n",
    "\n",
    "### Data Limitations\n",
    "Data comes exclusivly from steam data (from https://steamcharts.com/), meaning that older titles will have incomplete data (as they were released as non-steam and steam versions) and we won't see activity from consoles.\n",
    "\n",
    "### Used Technologies:\n",
    "#### - Python:\n",
    "- Selenium\n",
    "- Pandas\n",
    "- Jupyter Notebook\n",
    "\n",
    "#### - PowerBI"
   ]
  },
  {
   "cell_type": "markdown",
   "id": "d1d3cb4b",
   "metadata": {},
   "source": [
    "# Part 1: Getting Data"
   ]
  },
  {
   "cell_type": "markdown",
   "id": "227b67b6",
   "metadata": {},
   "source": [
    "### You need to click accept in first 5 seconds to make scrapping function work properly"
   ]
  },
  {
   "cell_type": "code",
   "execution_count": 206,
   "id": "4a9d2913",
   "metadata": {},
   "outputs": [],
   "source": [
    "from selenium import webdriver\n",
    "from selenium.webdriver.common.by import By\n",
    "from selenium.webdriver.support.wait import WebDriverWait\n",
    "from selenium.webdriver.support import expected_conditions as EC\n",
    "import pandas as pd\n",
    "\n",
    "\n",
    "game_list = [[\"Crusader Kings II\", \"203770\", \"Yes\"], [\"Stellaris\", \"281990\", \"Yes\"], [\"Europa Universalis IV\", \"236850\", \"Yes\"], [\"March of the Eagles\", \"227760\", \"Yes\"], [\"Victoria 3\", \"529340\", \"Yes\"], [\"Victoria II\", \"42960\", \"Yes\"],\n",
    "            [\"Hearts Of Iron IV\", \"394360\", \"Yes\"], [\"Hearts Of Iron III\", \"25890\", \"Yes\"], [\"Imperator: Rome\", \"859580\", \"Yes\"], [\"Cities: Skylines\", \"255710\", \"Yes\"], [\"Cities: Skylines II\", \"949230\", \"Yes\"],\n",
    "            [\"Total War: SHOGUN 2\", \"34330\", \"No\"], [\"Total War: Rome II\", \"214950\", \"No\"], [\"Total War: ATTILA\", \"325610\", \"No\"], [\"Total War: WARHAMMER\", \"364360\", \"No\"], [\"Total War: WARHAMMER II\", \"594570\", \"No\"],\n",
    "            [\"Total War: WARHAMMER III\", \"1142710\", \"No\"], [\"Total War Saga: Thrones of Britannia\", \"712100\", \"No\"], [\"Total War: Three Kingdoms\", \"779340\", \"No\"], [\"Total War Saga: Troy\", \"1099410\", \"No\"], [\"Total War: PHARAOH\", \"1937780\", \"No\"],\n",
    "            [\"Civilization V\", \"8930\", \"No\"], [\"XCOM: Enemy Unknown\", \"200510\", \"No\"], [\"Civilization: Beyond Earth\", \"65980\", \"No\"], [\"XCOM 2\", \"268500\", \"No\"], [\"Civilization VI\", \"289070\", \"No\"]]\n",
    "\n",
    "def scrap(games):\n",
    "    file = open(\"data.csv\", \"w\")\n",
    "    file.close()\n",
    "    driver.get(\"https://steamcharts.com/\")\n",
    "    sleep(5)\n",
    "    file = open(\"data.csv\", \"a\")\n",
    "    file.write(\"Month, Avg. Players, Gain, % Gain, Peak Players, Game Name, Paradox?\\n\")\n",
    "    for game in games:\n",
    "        url = \"https://steamcharts.com/app/\" + game[1]\n",
    "        driver.get(url)\n",
    "        container = driver.find_element(By.CLASS_NAME, \"common-table\")\n",
    "        tbody = container.find_element(By.TAG_NAME, \"tbody\")\n",
    "        trs = tbody.find_elements(By.TAG_NAME, \"tr\")\n",
    "        n_of_months = len(trs)\n",
    "        for month in range(0, n_of_months):\n",
    "            month_data = \"\"\n",
    "            current_check = trs[month]\n",
    "            tds = current_check.find_elements(By.TAG_NAME, \"td\")\n",
    "            for j in range (0, len(tds)):\n",
    "                if j == 0:\n",
    "                    if tds[j].text == \"Last 30 Days\":\n",
    "                        break\n",
    "                # remove ',' from 1000's separator\n",
    "                if j == 1 or j == 2 or j == 4:\n",
    "                    result = \"\"\n",
    "                    for char in tds[j].text:\n",
    "                        if char ==\",\":\n",
    "                            continue\n",
    "                        else:\n",
    "                            result += char\n",
    "                            \n",
    "                    month_data += result + \", \"\n",
    "                # remove '%' char\n",
    "                elif j == 3:\n",
    "                    result = tds[j].text[0:-1]\n",
    "                    month_data += result + \", \"\n",
    "                else:\n",
    "                    month_data += tds[j].text + \", \"\n",
    "            \n",
    "            if tds[j].text != \"Last 30 Days\":\n",
    "                month_data += game[0] + \", \"\n",
    "                month_data += game[2]\n",
    "                file.write(month_data + \"\\n\")\n",
    "    file.close()\n",
    "    driver.close()\n",
    "driver = webdriver.Firefox()\n",
    "scrap(game_list)"
   ]
  },
  {
   "cell_type": "code",
   "execution_count": null,
   "id": "e4727a27",
   "metadata": {},
   "outputs": [],
   "source": []
  },
  {
   "cell_type": "code",
   "execution_count": null,
   "id": "68db1971",
   "metadata": {},
   "outputs": [],
   "source": []
  },
  {
   "cell_type": "code",
   "execution_count": null,
   "id": "27cff62a",
   "metadata": {},
   "outputs": [],
   "source": []
  },
  {
   "cell_type": "code",
   "execution_count": null,
   "id": "5c4c6692",
   "metadata": {},
   "outputs": [],
   "source": []
  }
 ],
 "metadata": {
  "kernelspec": {
   "display_name": "Python 3 (ipykernel)",
   "language": "python",
   "name": "python3"
  },
  "language_info": {
   "codemirror_mode": {
    "name": "ipython",
    "version": 3
   },
   "file_extension": ".py",
   "mimetype": "text/x-python",
   "name": "python",
   "nbconvert_exporter": "python",
   "pygments_lexer": "ipython3",
   "version": "3.11.1"
  }
 },
 "nbformat": 4,
 "nbformat_minor": 5
}
